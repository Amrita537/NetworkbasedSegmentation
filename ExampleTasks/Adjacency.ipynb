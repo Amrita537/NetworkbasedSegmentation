{
 "cells": [
  {
   "cell_type": "code",
   "execution_count": 24,
   "id": "de647d7b",
   "metadata": {},
   "outputs": [
    {
     "name": "stdout",
     "output_type": "stream",
     "text": [
      "length: 6\n",
      "['#c60d77', '#00a2e8', '#22b14c', '#fff200', '#b97a57', '#000000']\n"
     ]
    },
    {
     "data": {
      "image/png": "[encoded data removed]",
      "text/plain": [
       "<Figure size 432x288 with 1 Axes>"
      ]
     },
     "metadata": {
      "needs_background": "light"
     },
     "output_type": "display_data"
    },
    {
     "name": "stdout",
     "output_type": "stream",
     "text": [
      "Image mode:  RGB\n"
     ]
    }
   ],
   "source": [
    "import cv2\n",
    "import numpy as np\n",
    "from PIL import Image,ImageDraw,ImageColor,ImageFont\n",
    "import matplotlib.pyplot as plt\n",
    "import matplotlib\n",
    "import webcolors\n",
    "import os\n",
    "#################### Global variables ##########################\n",
    "\n",
    "file_name='resizedexample'\n",
    "file_name2=\"example\"\n",
    "####################################################\n",
    "def show_image(img):\n",
    "    plt.imshow(img, interpolation='nearest')\n",
    "    plt.show()\n",
    "    img = Image.fromarray(img)\n",
    "    print(\"Image mode: \",img.mode)\n",
    "####################################################\n",
    "\n",
    "def getTopColorPallete(file_path):\n",
    "    img=Image.open(file_path)\n",
    "    colors = img.convert('RGB').getcolors()\n",
    "    colorlist=[]\n",
    "\n",
    "    for i in range(len(colors)):\n",
    "        colorlist.append(webcolors.rgb_to_hex(colors[i][1]))\n",
    "        \n",
    "    print(\"length:\",len(colorlist))\n",
    "    return colorlist\n",
    "####################################################\n",
    "file_path ='resized/'+file_name+'.png'\n",
    "file_path2='sampleImages/'+file_name2+'.png'\n",
    "cv_img = cv2.imread(file_path)\n",
    "\n",
    "####################################################\n",
    "topclr_list=getTopColorPallete(file_path2)\n",
    "print(topclr_list)\n",
    "show_image(cv_img)"
   ]
  },
  {
   "cell_type": "code",
   "execution_count": 25,
   "id": "529de33a",
   "metadata": {},
   "outputs": [
    {
     "name": "stdout",
     "output_type": "stream",
     "text": [
      "[198  13 119]\n"
     ]
    },
    {
     "data": {
      "image/png": "[encoded data removed]",
      "text/plain": [
       "<Figure size 432x288 with 1 Axes>"
      ]
     },
     "metadata": {
      "needs_background": "light"
     },
     "output_type": "display_data"
    },
    {
     "name": "stdout",
     "output_type": "stream",
     "text": [
      "[  0 162 232]\n"
     ]
    },
    {
     "data": {
      "image/png": "[encoded data removed]",
      "text/plain": [
       "<Figure size 432x288 with 1 Axes>"
      ]
     },
     "metadata": {
      "needs_background": "light"
     },
     "output_type": "display_data"
    },
    {
     "name": "stdout",
     "output_type": "stream",
     "text": [
      "[ 34 177  76]\n"
     ]
    },
    {
     "data": {
      "image/png": "[encoded data removed]",
      "text/plain": [
       "<Figure size 432x288 with 1 Axes>"
      ]
     },
     "metadata": {
      "needs_background": "light"
     },
     "output_type": "display_data"
    },
    {
     "name": "stdout",
     "output_type": "stream",
     "text": [
      "[255 242   0]\n"
     ]
    },
    {
     "data": {
      "image/png": "[encoded data removed]",
      "text/plain": [
       "<Figure size 432x288 with 1 Axes>"
      ]
     },
     "metadata": {
      "needs_background": "light"
     },
     "output_type": "display_data"
    },
    {
     "name": "stdout",
     "output_type": "stream",
     "text": [
      "[185 122  87]\n"
     ]
    },
    {
     "data": {
      "image/png": "[encoded data removed]",
      "text/plain": [
       "<Figure size 432x288 with 1 Axes>"
      ]
     },
     "metadata": {
      "needs_background": "light"
     },
     "output_type": "display_data"
    }
   ],
   "source": [
    "def GetMaskSegment(rgb_image):\n",
    "    low=[np.array([197, 12, 118]),np.array([0, 161, 231]),np.array([33, 176, 75]),np.array([254, 241, 0]),np.array([184, 121, 86])]\n",
    "    high=[np.array([198, 13, 119]),np.array([0, 162, 232]),np.array([34, 177, 76]),np.array([255, 242, 0]),np.array([185, 122, 87])]\n",
    "    imglists=[]\n",
    "    \n",
    "    for i in range(len(low)):\n",
    "        mask = cv2.inRange(rgb_image, low[i], high[i])\n",
    "        res = cv2.bitwise_and(rgb_image,rgb_image, mask= mask)\n",
    "        imglists.append([res,high[i]])\n",
    "        \n",
    "    return imglists\n",
    "\n",
    "img_list=GetMaskSegment(cv_img)\n",
    "\n",
    "for i in range(len(img_list)):\n",
    "    print(img_list[i][1])\n",
    "    plt.imshow(img_list[i][0], interpolation='nearest')\n",
    "    plt.show()"
   ]
  },
  {
   "cell_type": "code",
   "execution_count": 32,
   "id": "287c1a3d",
   "metadata": {},
   "outputs": [
    {
     "data": {
      "image/png": "[encoded data removed]",
      "text/plain": [
       "<Figure size 432x288 with 1 Axes>"
      ]
     },
     "metadata": {
      "needs_background": "light"
     },
     "output_type": "display_data"
    },
    {
     "name": "stdout",
     "output_type": "stream",
     "text": [
      "Image mode:  RGB\n"
     ]
    }
   ],
   "source": [
    "def apply_lut(src, lut):\n",
    "    dst = lut[src]\n",
    "    return dst\n",
    "\n",
    "def ComponentLabeling(img):\n",
    "    img=RGBtoGrayImage(img)\n",
    "    \n",
    "    _, mask = cv2.threshold(img, 0, 255, cv2.THRESH_BINARY | cv2.THRESH_OTSU)\n",
    "\n",
    "    n_components, component_ids = cv2.connectedComponents(mask)\n",
    "\n",
    "    # Initialize look up tables with arbitrary data for demonstration\n",
    "    LUT1 = np.linspace(0, 255, n_components).astype(np.uint16)\n",
    "    LUT2 = np.linspace(255, 0, n_components).astype(np.uint16)\n",
    "    LUT3 = np.linspace(50, 150, n_components).astype(np.uint16)\n",
    "    LUT2[0] = 0\n",
    "\n",
    "    r = apply_lut(component_ids, LUT1)\n",
    "    g = apply_lut(component_ids, LUT2)\n",
    "    b = apply_lut(component_ids, LUT3)\n",
    "\n",
    "    rgb = np.dstack((r, g, b)).astype(np.uint8)\n",
    "    \n",
    "    return rgb\n",
    "\n",
    "def RGBtoGrayImage(rgbimg):\n",
    "    grayImage = cv2.cvtColor(rgbimg, cv2.COLOR_RGB2GRAY)\n",
    "    (thresh, im_bw) = cv2.threshold(grayImage, 0, 255, cv2.THRESH_BINARY | cv2.THRESH_OTSU)\n",
    "    return im_bw\n",
    "\n",
    "label_img=ComponentLabeling(img_list[4][0])\n",
    "\n",
    "show_image(label_img)"
   ]
  },
  {
   "cell_type": "code",
   "execution_count": 27,
   "id": "5f273d12",
   "metadata": {},
   "outputs": [],
   "source": [
    "def GetAllPixValues(img):\n",
    "    print(\"Getting all pixel list...\")\n",
    "    rows,cols,_ = img.shape\n",
    "    pixlist=[]\n",
    "    for i in range(rows):\n",
    "        for j in range(cols):\n",
    "            pixlist.append(webcolors.rgb_to_hex(img[i,j]))\n",
    "    print(\"length:\",len(pixlist))\n",
    "    return pixlist\n",
    "\n",
    "\n",
    "def getUniqueListValue(Inputlist):\n",
    "    print(\"Getting unique values of the list...\")\n",
    "    unique_list = []\n",
    "    for x in Inputlist:\n",
    "        if x not in unique_list:\n",
    "            unique_list.append(x)\n",
    "    \n",
    "    print(\"length:\",len(unique_list))\n",
    "    return unique_list\n",
    "\n",
    "def SeeOccurrences(test_list):\n",
    "    print(\"Getting occurred list...\")\n",
    "    res = []\n",
    "    count = 1\n",
    "    for ele in range(0, len(test_list) -1):\n",
    "        if test_list[ele] != test_list[ele + 1]:\n",
    "            res.append((test_list[ele],count))\n",
    "            count = 1\n",
    "        else :\n",
    "            count = count + 1\n",
    "    res.append((test_list[len(test_list) -1], count))\n",
    "    \n",
    "    print(\"length:\",len(res))\n",
    "    return res\n",
    "\n",
    "def RemoveSpecificValue(input_list,val):\n",
    "    new_list=[]\n",
    "    for i in input_list:\n",
    "        if(i!=val):\n",
    "            new_list.append(i)\n",
    "    return new_list\n",
    "\n",
    "def GetBgPixVal(img):\n",
    "    (r,g,b) = img[0, 0]\n",
    "    a='#%02x%02x%02x' % (r,g,b)\n",
    "    return a"
   ]
  },
  {
   "cell_type": "code",
   "execution_count": 33,
   "id": "6a4f5b08",
   "metadata": {},
   "outputs": [
    {
     "name": "stdout",
     "output_type": "stream",
     "text": [
      "Getting all pixel list...\n",
      "length: 280800\n",
      "Getting unique values of the list...\n",
      "length: 3\n",
      "['#55aa53', '#aa5574', '#ff0096']\n"
     ]
    }
   ],
   "source": [
    "def getColorPalette(img): \n",
    "    label_pix=GetAllPixValues(img)\n",
    "    BgPix=GetBgPixVal(img)\n",
    "    label_pix=RemoveSpecificValue(label_pix,BgPix) \n",
    "    unq_label_pix=getUniqueListValue(label_pix)\n",
    "    \n",
    "    return unq_label_pix\n",
    "\n",
    "unq_pixlist=getColorPalette(label_img)\n",
    "print(unq_pixlist)"
   ]
  },
  {
   "cell_type": "code",
   "execution_count": 34,
   "id": "a57bdc63",
   "metadata": {},
   "outputs": [
    {
     "name": "stdout",
     "output_type": "stream",
     "text": [
      "[ 85 170  83]\n"
     ]
    },
    {
     "data": {
      "image/png": "[encoded data removed]",
      "text/plain": [
       "<Figure size 432x288 with 1 Axes>"
      ]
     },
     "metadata": {
      "needs_background": "light"
     },
     "output_type": "display_data"
    },
    {
     "name": "stdout",
     "output_type": "stream",
     "text": [
      "[170  85 116]\n"
     ]
    },
    {
     "data": {
      "image/png": "[encoded data removed]",
      "text/plain": [
       "<Figure size 432x288 with 1 Axes>"
      ]
     },
     "metadata": {
      "needs_background": "light"
     },
     "output_type": "display_data"
    },
    {
     "name": "stdout",
     "output_type": "stream",
     "text": [
      "[255   0 150]\n"
     ]
    },
    {
     "data": {
      "image/png": "[encoded data removed]",
      "text/plain": [
       "<Figure size 432x288 with 1 Axes>"
      ]
     },
     "metadata": {
      "needs_background": "light"
     },
     "output_type": "display_data"
    }
   ],
   "source": [
    "def GetMaskSegment2(rgb_image):\n",
    "    low=[np.array([84, 169, 82]),np.array([169, 84, 115]),np.array([254, 0, 149])]\n",
    "    high=[np.array([85, 170, 83]),np.array([170, 85, 116]),np.array([255, 0, 150])]\n",
    "    imglists=[]\n",
    "    \n",
    "    for i in range(len(low)):\n",
    "        mask = cv2.inRange(rgb_image, low[i], high[i])\n",
    "        res = cv2.bitwise_and(rgb_image,rgb_image, mask= mask)\n",
    "        imglists.append([res,high[i]])\n",
    "        \n",
    "    return imglists\n",
    "\n",
    "img_list2=GetMaskSegment2(label_img)\n",
    "\n",
    "for i in range(len(img_list2)):\n",
    "    print(img_list2[i][1])\n",
    "    plt.imshow(img_list2[i][0], interpolation='nearest')\n",
    "    plt.show()"
   ]
  },
  {
   "cell_type": "code",
   "execution_count": 47,
   "id": "e0f977be",
   "metadata": {},
   "outputs": [
    {
     "data": {
      "image/png": "[encoded data removed]",
      "text/plain": [
       "<Figure size 432x288 with 1 Axes>"
      ]
     },
     "metadata": {
      "needs_background": "light"
     },
     "output_type": "display_data"
    },
    {
     "data": {
      "image/png": "[encoded data removed]",
      "text/plain": [
       "<Figure size 432x288 with 1 Axes>"
      ]
     },
     "metadata": {
      "needs_background": "light"
     },
     "output_type": "display_data"
    },
    {
     "data": {
      "image/png": "[encoded data removed]",
      "text/plain": [
       "<Figure size 432x288 with 1 Axes>"
      ]
     },
     "metadata": {
      "needs_background": "light"
     },
     "output_type": "display_data"
    },
    {
     "name": "stdout",
     "output_type": "stream",
     "text": [
      "Getting all pixel list...\n",
      "length: 280800\n",
      "Getting unique values of the list...\n",
      "length: 1\n",
      "True\n"
     ]
    },
    {
     "data": {
      "image/png": "[encoded data removed]",
      "text/plain": [
       "<Figure size 432x288 with 1 Axes>"
      ]
     },
     "metadata": {
      "needs_background": "light"
     },
     "output_type": "display_data"
    },
    {
     "data": {
      "image/png": "[encoded data removed]",
      "text/plain": [
       "<Figure size 432x288 with 1 Axes>"
      ]
     },
     "metadata": {
      "needs_background": "light"
     },
     "output_type": "display_data"
    },
    {
     "data": {
      "image/png": "[encoded data removed]",
      "text/plain": [
       "<Figure size 432x288 with 1 Axes>"
      ]
     },
     "metadata": {
      "needs_background": "light"
     },
     "output_type": "display_data"
    },
    {
     "name": "stdout",
     "output_type": "stream",
     "text": [
      "Getting all pixel list...\n",
      "length: 280800\n",
      "Getting unique values of the list...\n",
      "length: 1\n",
      "True\n"
     ]
    },
    {
     "data": {
      "image/png": "[encoded data removed]",
      "text/plain": [
       "<Figure size 432x288 with 1 Axes>"
      ]
     },
     "metadata": {
      "needs_background": "light"
     },
     "output_type": "display_data"
    },
    {
     "data": {
      "image/png": "[encoded data removed]",
      "text/plain": [
       "<Figure size 432x288 with 1 Axes>"
      ]
     },
     "metadata": {
      "needs_background": "light"
     },
     "output_type": "display_data"
    },
    {
     "data": {
      "image/png": "[encoded data removed]",
      "text/plain": [
       "<Figure size 432x288 with 1 Axes>"
      ]
     },
     "metadata": {
      "needs_background": "light"
     },
     "output_type": "display_data"
    },
    {
     "name": "stdout",
     "output_type": "stream",
     "text": [
      "Getting all pixel list...\n",
      "length: 280800\n",
      "Getting unique values of the list...\n",
      "length: 2\n",
      "False\n"
     ]
    }
   ],
   "source": [
    "def DilateImage(img):\n",
    "    cv2.imshow('Original', img)\n",
    "\n",
    "    kernel = np.ones((5, 5), 'uint8')\n",
    "\n",
    "    dilate_img = cv2.dilate(img, kernel, iterations=2)\n",
    "    plt.imshow(dilate_img, interpolation='nearest')\n",
    "    plt.show()\n",
    "    \n",
    "    return dilate_img\n",
    "\n",
    "def CheckConnectivity(img):\n",
    "    connection=False\n",
    "    label_pix=GetAllPixValues(img)\n",
    "    BgPix=GetBgPixVal(img)\n",
    "    label_pix=RemoveSpecificValue(label_pix,BgPix) \n",
    "    unq_label_pix=getUniqueListValue(label_pix)\n",
    "    if(len(unq_label_pix)==1):\n",
    "        connection=True\n",
    "    else:\n",
    "        connection=False\n",
    "    return connection\n",
    "\n",
    "for i in range(len(img_list2)):\n",
    "    compareWithImg=DilateImage(img_list[1][0])\n",
    "    mergeimg=compareWithImg+img_list2[i][0]\n",
    "    plt.imshow(mergeimg, interpolation='nearest')\n",
    "    plt.show()\n",
    "    merge_label=ComponentLabeling(mergeimg)\n",
    "    plt.imshow(merge_label, interpolation='nearest')\n",
    "    plt.show()\n",
    "    print(CheckConnectivity(merge_label))\n",
    "    "
   ]
  },
  {
   "cell_type": "code",
   "execution_count": null,
   "id": "edd7fa46",
   "metadata": {},
   "outputs": [],
   "source": []
  }
 ],
 "metadata": {
  "kernelspec": {
   "display_name": "Python 3 (ipykernel)",
   "language": "python",
   "name": "python3"
  },
  "language_info": {
   "codemirror_mode": {
    "name": "ipython",
    "version": 3
   },
   "file_extension": ".py",
   "mimetype": "text/x-python",
   "name": "python",
   "nbconvert_exporter": "python",
   "pygments_lexer": "ipython3",
   "version": "3.9.7"
  }
 },
 "nbformat": 4,
 "nbformat_minor": 5
}
