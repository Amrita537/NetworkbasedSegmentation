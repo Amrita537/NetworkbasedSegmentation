{
 "cells": [
  {
   "cell_type": "code",
   "execution_count": 9,
   "id": "8be4c487",
   "metadata": {},
   "outputs": [
    {
     "name": "stdout",
     "output_type": "stream",
     "text": [
      "length: 6\n",
      "['#c60d77', '#00a2e8', '#22b14c', '#fff200', '#b97a57', '#000000']\n",
      "Image mode:  RGB\n"
     ]
    },
    {
     "data": {
      "image/png": "[encoded data removed]",
      "text/plain": [
       "<Figure size 432x288 with 1 Axes>"
      ]
     },
     "metadata": {
      "needs_background": "light"
     },
     "output_type": "display_data"
    }
   ],
   "source": [
    "import cv2\n",
    "import numpy as np\n",
    "from PIL import Image,ImageDraw,ImageColor,ImageFont\n",
    "import matplotlib.pyplot as plt\n",
    "import matplotlib\n",
    "import webcolors\n",
    "import os\n",
    "#################### Global variables ##########################\n",
    "\n",
    "file_name='resizedexample'\n",
    "file_name2=\"example\"\n",
    "####################################################\n",
    "def show_image(img):\n",
    "    plt.imshow(img)\n",
    "    img = Image.fromarray(img)\n",
    "    print(\"Image mode: \",img.mode)\n",
    "####################################################\n",
    "\n",
    "def getTopColorPallete(file_path):\n",
    "    img=Image.open(file_path)\n",
    "    colors = img.convert('RGB').getcolors()\n",
    "    colorlist=[]\n",
    "\n",
    "    for i in range(len(colors)):\n",
    "        colorlist.append(webcolors.rgb_to_hex(colors[i][1]))\n",
    "        \n",
    "    print(\"length:\",len(colorlist))\n",
    "    return colorlist\n",
    "####################################################\n",
    "file_path ='resized/'+file_name+'.png'\n",
    "file_path2='sampleImages/'+file_name2+'.png'\n",
    "cv_img = cv2.imread(file_path)\n",
    "\n",
    "####################################################\n",
    "topclr_list=getTopColorPallete(file_path2)\n",
    "print(topclr_list)\n",
    "show_image(cv_img)"
   ]
  },
  {
   "cell_type": "code",
   "execution_count": 11,
   "id": "91596c8c",
   "metadata": {},
   "outputs": [
    {
     "name": "stdout",
     "output_type": "stream",
     "text": [
      "[198  13 119]\n"
     ]
    },
    {
     "data": {
      "image/png": "[encoded data removed]",
      "text/plain": [
       "<Figure size 432x288 with 1 Axes>"
      ]
     },
     "metadata": {
      "needs_background": "light"
     },
     "output_type": "display_data"
    },
    {
     "name": "stdout",
     "output_type": "stream",
     "text": [
      "[  0 162 232]\n"
     ]
    },
    {
     "data": {
      "image/png": "[encoded data removed]",
      "text/plain": [
       "<Figure size 432x288 with 1 Axes>"
      ]
     },
     "metadata": {
      "needs_background": "light"
     },
     "output_type": "display_data"
    },
    {
     "name": "stdout",
     "output_type": "stream",
     "text": [
      "[ 34 177  76]\n"
     ]
    },
    {
     "data": {
      "image/png": "[encoded data removed]",
      "text/plain": [
       "<Figure size 432x288 with 1 Axes>"
      ]
     },
     "metadata": {
      "needs_background": "light"
     },
     "output_type": "display_data"
    },
    {
     "name": "stdout",
     "output_type": "stream",
     "text": [
      "[255 242   0]\n"
     ]
    },
    {
     "data": {
      "image/png": "[encoded data removed]",
      "text/plain": [
       "<Figure size 432x288 with 1 Axes>"
      ]
     },
     "metadata": {
      "needs_background": "light"
     },
     "output_type": "display_data"
    },
    {
     "name": "stdout",
     "output_type": "stream",
     "text": [
      "[185 122  87]\n"
     ]
    },
    {
     "data": {
      "image/png": "[encoded data removed]",
      "text/plain": [
       "<Figure size 432x288 with 1 Axes>"
      ]
     },
     "metadata": {
      "needs_background": "light"
     },
     "output_type": "display_data"
    }
   ],
   "source": [
    "def GetMaskSegment(rgb_image):\n",
    "    low=[np.array([197, 12, 118]),np.array([0, 161, 231]),np.array([33, 176, 75]),np.array([254, 241, 0]),np.array([184, 121, 86])]\n",
    "    high=[np.array([198, 13, 119]),np.array([0, 162, 232]),np.array([34, 177, 76]),np.array([255, 242, 0]),np.array([185, 122, 87])]\n",
    "    imglists=[]\n",
    "    \n",
    "    for i in range(len(low)):\n",
    "        mask = cv2.inRange(rgb_image, low[i], high[i])\n",
    "        res = cv2.bitwise_and(rgb_image,rgb_image, mask= mask)\n",
    "        imglists.append([res,high[i]])\n",
    "        \n",
    "    return imglists\n",
    "\n",
    "img_list=GetMaskSegment(cv_img)\n",
    "\n",
    "for i in range(len(img_list)):\n",
    "    print(img_list[i][1])\n",
    "    plt.imshow(img_list[i][0], interpolation='nearest')\n",
    "    plt.show()"
   ]
  },
  {
   "cell_type": "code",
   "execution_count": null,
   "id": "89aa7450",
   "metadata": {},
   "outputs": [],
   "source": []
  }
 ],
 "metadata": {
  "kernelspec": {
   "display_name": "Python 3 (ipykernel)",
   "language": "python",
   "name": "python3"
  },
  "language_info": {
   "codemirror_mode": {
    "name": "ipython",
    "version": 3
   },
   "file_extension": ".py",
   "mimetype": "text/x-python",
   "name": "python",
   "nbconvert_exporter": "python",
   "pygments_lexer": "ipython3",
   "version": "3.9.7"
  }
 },
 "nbformat": 4,
 "nbformat_minor": 5
}
