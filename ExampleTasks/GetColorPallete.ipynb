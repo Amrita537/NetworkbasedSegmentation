{
 "cells": [
  {
   "cell_type": "code",
   "execution_count": 18,
   "id": "572e00d4",
   "metadata": {},
   "outputs": [
    {
     "name": "stdout",
     "output_type": "stream",
     "text": [
      "Image mode:  RGB\n"
     ]
    },
    {
     "data": {
      "image/png": "[encoded data removed]",
      "text/plain": [
       "<Figure size 432x288 with 1 Axes>"
      ]
     },
     "metadata": {
      "needs_background": "light"
     },
     "output_type": "display_data"
    }
   ],
   "source": [
    "import cv2\n",
    "import numpy as np\n",
    "from PIL import Image,ImageDraw,ImageColor,ImageFont\n",
    "import matplotlib.pyplot as plt\n",
    "import matplotlib\n",
    "import webcolors\n",
    "import os\n",
    "#################### Global variables ##########################\n",
    "\n",
    "file_name='resizedexample'\n",
    "file_name2=\"example\"\n",
    "####################################################\n",
    "def show_image(img):\n",
    "    plt.imshow(img)\n",
    "    img = Image.fromarray(img)\n",
    "    print(\"Image mode: \",img.mode)\n",
    "    \n",
    "file_path ='resized/'+file_name+'.png'\n",
    "file_path2='sampleImages/'+file_name2+'.png'\n",
    "\n",
    "cv_img = cv2.imread(file_path)\n",
    "\n",
    "show_image(cv_img)\n"
   ]
  },
  {
   "cell_type": "code",
   "execution_count": 19,
   "id": "7cc250eb",
   "metadata": {},
   "outputs": [
    {
     "name": "stdout",
     "output_type": "stream",
     "text": [
      "length: 6\n",
      "['#c60d77', '#00a2e8', '#22b14c', '#fff200', '#b97a57', '#000000']\n"
     ]
    }
   ],
   "source": [
    "def getTopColorPallete(file_path):\n",
    "    img=Image.open(file_path)\n",
    "    colors = img.convert('RGB').getcolors()\n",
    "    colorlist=[]\n",
    "\n",
    "    for i in range(len(colors)):\n",
    "        colorlist.append(webcolors.rgb_to_hex(colors[i][1]))\n",
    "        \n",
    "    print(\"length:\",len(colorlist))\n",
    "    return colorlist\n",
    "\n",
    "topclr_list=getTopColorPallete(file_path2)\n",
    "print(topclr_list)"
   ]
  },
  {
   "cell_type": "code",
   "execution_count": null,
   "id": "51fe3f66",
   "metadata": {},
   "outputs": [],
   "source": []
  }
 ],
 "metadata": {
  "kernelspec": {
   "display_name": "Python 3 (ipykernel)",
   "language": "python",
   "name": "python3"
  },
  "language_info": {
   "codemirror_mode": {
    "name": "ipython",
    "version": 3
   },
   "file_extension": ".py",
   "mimetype": "text/x-python",
   "name": "python",
   "nbconvert_exporter": "python",
   "pygments_lexer": "ipython3",
   "version": "3.9.7"
  }
 },
 "nbformat": 4,
 "nbformat_minor": 5
}
