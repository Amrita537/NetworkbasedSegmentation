{
 "cells": [
  {
   "cell_type": "code",
   "execution_count": 26,
   "id": "9600ed9b",
   "metadata": {},
   "outputs": [
    {
     "name": "stdout",
     "output_type": "stream",
     "text": [
      "length: 6\n",
      "['#c60d77', '#00a2e8', '#22b14c', '#fff200', '#b97a57', '#000000']\n"
     ]
    },
    {
     "data": {
      "image/png": "[encoded data removed]",
      "text/plain": [
       "<Figure size 432x288 with 1 Axes>"
      ]
     },
     "metadata": {
      "needs_background": "light"
     },
     "output_type": "display_data"
    },
    {
     "name": "stdout",
     "output_type": "stream",
     "text": [
      "Image mode:  RGB\n"
     ]
    }
   ],
   "source": [
    "import cv2\n",
    "import numpy as np\n",
    "from PIL import Image,ImageDraw,ImageColor,ImageFont\n",
    "import matplotlib.pyplot as plt\n",
    "import matplotlib\n",
    "import webcolors\n",
    "import os\n",
    "#################### Global variables ##########################\n",
    "\n",
    "file_name='resizedexample'\n",
    "file_name2=\"example\"\n",
    "####################################################\n",
    "def show_image(img):\n",
    "    plt.imshow(img, interpolation='nearest')\n",
    "    plt.show()\n",
    "    img = Image.fromarray(img)\n",
    "    print(\"Image mode: \",img.mode)\n",
    "####################################################\n",
    "\n",
    "def getTopColorPallete(file_path):\n",
    "    img=Image.open(file_path)\n",
    "    colors = img.convert('RGB').getcolors()\n",
    "    colorlist=[]\n",
    "\n",
    "    for i in range(len(colors)):\n",
    "        colorlist.append(webcolors.rgb_to_hex(colors[i][1]))\n",
    "        \n",
    "    print(\"length:\",len(colorlist))\n",
    "    return colorlist\n",
    "####################################################\n",
    "file_path ='resized/'+file_name+'.png'\n",
    "file_path2='sampleImages/'+file_name2+'.png'\n",
    "cv_img = cv2.imread(file_path)\n",
    "\n",
    "####################################################\n",
    "topclr_list=getTopColorPallete(file_path2)\n",
    "print(topclr_list)\n",
    "show_image(cv_img)"
   ]
  },
  {
   "cell_type": "code",
   "execution_count": 27,
   "id": "bbb1084e",
   "metadata": {},
   "outputs": [
    {
     "name": "stdout",
     "output_type": "stream",
     "text": [
      "[198  13 119]\n"
     ]
    },
    {
     "data": {
      "image/png": "[encoded data removed]",
      "text/plain": [
       "<Figure size 432x288 with 1 Axes>"
      ]
     },
     "metadata": {
      "needs_background": "light"
     },
     "output_type": "display_data"
    },
    {
     "name": "stdout",
     "output_type": "stream",
     "text": [
      "[  0 162 232]\n"
     ]
    },
    {
     "data": {
      "image/png": "[encoded data removed]",
      "text/plain": [
       "<Figure size 432x288 with 1 Axes>"
      ]
     },
     "metadata": {
      "needs_background": "light"
     },
     "output_type": "display_data"
    },
    {
     "name": "stdout",
     "output_type": "stream",
     "text": [
      "[ 34 177  76]\n"
     ]
    },
    {
     "data": {
      "image/png": "[encoded data removed]",
      "text/plain": [
       "<Figure size 432x288 with 1 Axes>"
      ]
     },
     "metadata": {
      "needs_background": "light"
     },
     "output_type": "display_data"
    },
    {
     "name": "stdout",
     "output_type": "stream",
     "text": [
      "[255 242   0]\n"
     ]
    },
    {
     "data": {
      "image/png": "[encoded data removed]",
      "text/plain": [
       "<Figure size 432x288 with 1 Axes>"
      ]
     },
     "metadata": {
      "needs_background": "light"
     },
     "output_type": "display_data"
    },
    {
     "name": "stdout",
     "output_type": "stream",
     "text": [
      "[185 122  87]\n"
     ]
    },
    {
     "data": {
      "image/png": "[encoded data removed]",
      "text/plain": [
       "<Figure size 432x288 with 1 Axes>"
      ]
     },
     "metadata": {
      "needs_background": "light"
     },
     "output_type": "display_data"
    }
   ],
   "source": [
    "def GetMaskSegment(rgb_image):\n",
    "    low=[np.array([197, 12, 118]),np.array([0, 161, 231]),np.array([33, 176, 75]),np.array([254, 241, 0]),np.array([184, 121, 86])]\n",
    "    high=[np.array([198, 13, 119]),np.array([0, 162, 232]),np.array([34, 177, 76]),np.array([255, 242, 0]),np.array([185, 122, 87])]\n",
    "    imglists=[]\n",
    "    \n",
    "    for i in range(len(low)):\n",
    "        mask = cv2.inRange(rgb_image, low[i], high[i])\n",
    "        res = cv2.bitwise_and(rgb_image,rgb_image, mask= mask)\n",
    "        imglists.append([res,high[i]])\n",
    "        \n",
    "    return imglists\n",
    "\n",
    "img_list=GetMaskSegment(cv_img)\n",
    "\n",
    "for i in range(len(img_list)):\n",
    "    print(img_list[i][1])\n",
    "    plt.imshow(img_list[i][0], interpolation='nearest')\n",
    "    plt.show()"
   ]
  },
  {
   "cell_type": "code",
   "execution_count": 30,
   "id": "49862827",
   "metadata": {},
   "outputs": [
    {
     "name": "stdout",
     "output_type": "stream",
     "text": [
      "[  0 255]\n",
      "[  0 255]\n",
      "[  0 255]\n",
      "[  0 127 255]\n",
      "[  0  85 170 255]\n"
     ]
    },
    {
     "data": {
      "image/png": "[encoded data removed]",
      "text/plain": [
       "<Figure size 432x288 with 1 Axes>"
      ]
     },
     "metadata": {
      "needs_background": "light"
     },
     "output_type": "display_data"
    },
    {
     "name": "stdout",
     "output_type": "stream",
     "text": [
      "Image mode:  RGB\n"
     ]
    },
    {
     "data": {
      "image/png": "[encoded data removed]",
      "text/plain": [
       "<Figure size 432x288 with 1 Axes>"
      ]
     },
     "metadata": {
      "needs_background": "light"
     },
     "output_type": "display_data"
    },
    {
     "name": "stdout",
     "output_type": "stream",
     "text": [
      "Image mode:  RGB\n"
     ]
    },
    {
     "data": {
      "image/png": "[encoded data removed]",
      "text/plain": [
       "<Figure size 432x288 with 1 Axes>"
      ]
     },
     "metadata": {
      "needs_background": "light"
     },
     "output_type": "display_data"
    },
    {
     "name": "stdout",
     "output_type": "stream",
     "text": [
      "Image mode:  RGB\n"
     ]
    },
    {
     "data": {
      "image/png": "[encoded data removed]",
      "text/plain": [
       "<Figure size 432x288 with 1 Axes>"
      ]
     },
     "metadata": {
      "needs_background": "light"
     },
     "output_type": "display_data"
    },
    {
     "name": "stdout",
     "output_type": "stream",
     "text": [
      "Image mode:  RGB\n"
     ]
    },
    {
     "data": {
      "image/png": "[encoded data removed]",
      "text/plain": [
       "<Figure size 432x288 with 1 Axes>"
      ]
     },
     "metadata": {
      "needs_background": "light"
     },
     "output_type": "display_data"
    },
    {
     "name": "stdout",
     "output_type": "stream",
     "text": [
      "Image mode:  RGB\n"
     ]
    }
   ],
   "source": [
    "def apply_lut(src, lut):\n",
    "    dst = lut[src]\n",
    "    return dst\n",
    "\n",
    "def ComponentLabeling(img):\n",
    "    _, mask = cv2.threshold(img, 0, 255, cv2.THRESH_BINARY | cv2.THRESH_OTSU)\n",
    "\n",
    "    n_components, component_ids = cv2.connectedComponents(mask)\n",
    "\n",
    "    # Initialize look up tables with arbitrary data for demonstration\n",
    "    LUT1 = np.linspace(0, 255, n_components).astype(np.uint16)\n",
    "    LUT2 = np.linspace(255, 0, n_components).astype(np.uint16)\n",
    "    LUT3 = np.linspace(50, 150, n_components).astype(np.uint16)\n",
    "    LUT2[0] = 0\n",
    "\n",
    "    print(\"lut1\"LUT1)\n",
    "    \n",
    "    r = apply_lut(component_ids, LUT1)\n",
    "    g = apply_lut(component_ids, LUT2)\n",
    "    b = apply_lut(component_ids, LUT3)\n",
    "\n",
    "    rgb = np.dstack((r, g, b)).astype(np.uint8)\n",
    "    \n",
    "    return rgb\n",
    "\n",
    "def RGBtoGrayImage(rgbimg):\n",
    "    grayImage = cv2.cvtColor(rgbimg, cv2.COLOR_RGB2GRAY)\n",
    "    (thresh, im_bw) = cv2.threshold(grayImage, 0, 255, cv2.THRESH_BINARY | cv2.THRESH_OTSU)\n",
    "    return im_bw\n",
    "    \n",
    "label_imglist=[]\n",
    "for i in range(len(img_list)):\n",
    "    gray_im=RGBtoGrayImage(img_list[i][0])\n",
    "    label_img=ComponentLabeling(gray_im)\n",
    "    label_imglist.append(label_img)\n",
    "\n",
    "for i in range(len(label_imglist)):\n",
    "    show_image(label_imglist[i])"
   ]
  },
  {
   "cell_type": "code",
   "execution_count": null,
   "id": "7a90caaa",
   "metadata": {},
   "outputs": [],
   "source": []
  }
 ],
 "metadata": {
  "kernelspec": {
   "display_name": "Python 3 (ipykernel)",
   "language": "python",
   "name": "python3"
  },
  "language_info": {
   "codemirror_mode": {
    "name": "ipython",
    "version": 3
   },
   "file_extension": ".py",
   "mimetype": "text/x-python",
   "name": "python",
   "nbconvert_exporter": "python",
   "pygments_lexer": "ipython3",
   "version": "3.9.7"
  }
 },
 "nbformat": 4,
 "nbformat_minor": 5
}
